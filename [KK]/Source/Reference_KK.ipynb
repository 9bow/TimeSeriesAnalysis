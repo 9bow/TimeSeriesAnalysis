{
 "cells": [
  {
   "cell_type": "markdown",
   "metadata": {},
   "source": [
    "# 언어이해"
   ]
  },
  {
   "cell_type": "markdown",
   "metadata": {},
   "source": [
    "## 분석싸이클\n",
    "http://blog.analytics-toolkit.com/2017/statistical-significance-ab-testing-complete-guide/  \n",
    "https://m.blog.naver.com/bluefish850/220695646821 (완료)  \n",
    "http://triki.net/wiki/3343 (완료)  \n",
    "http://www.sliceofbi.com/2015/07/life-of-bi-business-intelligence.html (그림)   \n",
    "https://sites.google.com/site/teambetais3150/part-1-digital-technology-trends/chapter-3-data-management-big-data-analytics-and-records-management/key-concepts (그림)  \n",
    "https://aws.amazon.com/ko/blogs/big-data/how-smartnews-built-a-lambda-architecture-on-aws-to-analyze-customer-behavior-and-recommend-content/ (그림)  \n",
    "https://en.wikipedia.org/wiki/Mode_(statistics)#/media/File:Visualisation_mode_median_mean.svg (그림)  \n",
    "https://medium.com/@annishared/descriptive-statistics-ec6e9c60989c (그림)  \n",
    "https://www.onlinemathlearning.com/mutually-exclusive-events.html (그림)  \n",
    "https://serc.carleton.edu/introgeo/teachingwdata/Statcentral.html (그림)  \n",
    "http://www.evanmiller.org/ab-testing/t-test.html (그림)  \n",
    "https://en.wikipedia.org/wiki/P-value (그림)  \n",
    "https://tomholderness.wordpress.com/2013/01/10/confidence_intervals/ (그림)  \n"
   ]
  },
  {
   "cell_type": "markdown",
   "metadata": {},
   "source": [
    "## 통계\n",
    "https://support.minitab.com/ko-kr/minitab/18/help-and-how-to/statistics/basic-statistics/how-to/2-variances/interpret-the-results/all-statistics-and-graphs/ (끝판완-진행중)   \n",
    "https://m.blog.naver.com/bluefish850/220702382738  \n",
    "https://m.blog.naver.com/bluefish850/220703334665  \n",
    "https://m.blog.naver.com/bluefish850/220704024013  \n",
    "https://m.blog.naver.com/bluefish850/220698040249 (완료, Sampling 과정에서 생기는 Bias 제거하는 방법 제외)  \n",
    "https://m.blog.naver.com/bluefish850/220699738597 (완료, 4.가설검정의한계 제외)  \n",
    "https://m.blog.naver.com/bluefish850/220696377742 (완료)  \n",
    "https://kkokkilkon.tistory.com/36?category=640119 (완료)  \n",
    "http://triki.net/wiki/3079 (완료)  \n",
    "http://triki.net/wiki/3108 (완료)  \n",
    "http://triki.net/wiki/3343 (완료)  \n",
    "https://m.blog.naver.com/her7845/220878643237 (완료)  \n",
    "https://m.blog.naver.com/her7845/220878676671 (완료)  \n",
    "https://m.blog.naver.com/her7845/220973401414 (완료)  \n"
   ]
  },
  {
   "cell_type": "markdown",
   "metadata": {},
   "source": [
    "## 확률\n",
    "http://triki.net/wiki/3475  \n",
    "http://triki.net/wiki/3491  \n",
    "http://triki.net/wiki/3511  \n",
    "http://triki.net/wiki/3538  \n",
    "https://m.blog.naver.com/her7845/220973410803  "
   ]
  },
  {
   "cell_type": "markdown",
   "metadata": {},
   "source": [
    "## Pandas\n",
    "https://chrisalbon.com/  \n",
    "https://www.datacamp.com/community/tutorials/pandas-read-csv  \n",
    "https://chrisalbon.com/python/data_wrangling/pandas_dataframe_importing_csv/  \n",
    "https://pythonhow.com/pandas-data-analysis-functions/  \n",
    "https://www.dataquest.io/blog/pandas-python-tutorial/  \n",
    "https://www.dataquest.io/blog/pandas-tutorial-python-2/  \n",
    "https://chrisalbon.com/python/data_wrangling/pandas_apply_operations_to_groups/  \n",
    "http://www.gregreda.com/2013/10/26/working-with-pandas-dataframes/  \n",
    "https://chrisalbon.com/python/data_wrangling/pandas_join_merge_dataframe/  \n",
    "http://wesmckinney.com/blog/high-performance-database-joins-with-pandas-dataframe-more-benchmarks/  \n",
    "https://www.w3schools.com/sql/sql_join.asp  \n",
    "http://pandas.pydata.org/pandas-docs/stable/comparison_with_sql.html#join  \n",
    "http://pbpython.com/simple-graphing-pandas.html  \n",
    "https://machinelearningmastery.com/quick-and-dirty-data-analysis-with-pandas/  \n",
    "https://tomaugspurger.github.io/archives.html  \n",
    "https://www.shanelynn.ie/python-pandas-read_csv-load-data-from-csv-files/ (완료)  \n",
    "https://www.shanelynn.ie/using-pandas-dataframe-creating-editing-viewing-data-in-python/) (완료)  \n",
    "http://www.tablesgenerator.com/markdown_tables) (완료)  \n",
    "https://www.shanelynn.ie/summarising-aggregation-and-grouping-data-in-python-pandas/) (완료)  \n",
    "https://www.shanelynn.ie/select-pandas-dataframe-rows-and-columns-using-iloc-loc-and-ix/) (완료)  \n",
    "https://www.shanelynn.ie/merge-join-dataframes-python-pandas-index-1/) (완료)  \n"
   ]
  },
  {
   "cell_type": "markdown",
   "metadata": {},
   "source": [
    "## Numpy\n",
    "https://docs.scipy.org/doc/numpy/user/quickstart.html  \n",
    "https://www.tutorialspoint.com/numpy/index.htm  \n",
    "https://www.machinelearningplus.com/python/numpy-tutorial-part1-array-python-examples/  \n",
    "https://www.kaggle.com/hkumls/intensive-python-tutorial-numpy  \n",
    "https://www.guru99.com/numpy-tutorial.html  \n",
    "https://sacko.tistory.com/8?category=630829(글3개)  \n",
    "http://taewan.kim/post/numpy_sum_axis/  \n",
    "https://rfriend.tistory.com/357?category=675917  \n",
    "http://blog.naver.com/PostView.nhn?blogId=lyshyn&logNo=221074812470&parentCategoryNo=&categoryNo=78&viewDate=&isShowPopularPosts=true&from=search  \n",
    "https://towardsdatascience.com/a-quick-introduction-to-the-numpy-library-6f61b7dee4db  \n",
    "https://sdong3161.tistory.com/5?category=662597 (완료)  \n",
    "http://cs231n.github.io/python-numpy-tutorial/ (완료)  \n"
   ]
  },
  {
   "cell_type": "markdown",
   "metadata": {},
   "source": [
    "# 데이터이해"
   ]
  },
  {
   "cell_type": "markdown",
   "metadata": {},
   "source": [
    "## 데이터셋\n",
    "https://datascienceschool.net/view-notebook/4b948c4d99c94213bf02bcff2ced88eb/  \n",
    "https://datascienceschool.net/view-notebook/0224ae9672eb4ab789c395a2ca2335e9/  \n",
    "https://datascienceschool.net/view-notebook/77ee0e1bb6754ad89e0da14c6d461953/ (완료)  \n",
    "https://datascienceschool.net/view-notebook/293ece8b0d124fbaa4d4d52bb8f1cb42/ (완료)  \n"
   ]
  },
  {
   "cell_type": "markdown",
   "metadata": {},
   "source": [
    "## 전처리\n",
    "https://sacko.tistory.com/53?category=647946  \n",
    "https://pbpython.com/categorical-encoding.html  \n",
    "https://www.analyticsvidhya.com/blog/2016/07/practical-guide-data-preprocessing-python-scikit-learn/  \n",
    "https://towardsdatascience.com/preprocessing-with-sklearn-a-complete-and-comprehensive-guide-670cb98fcfb9  \n",
    "https://datascienceschool.net/view-notebook/36176e580d124612a376cf29872cd2f0/  \n",
    "https://scikit-learn.org/stable/auto_examples/preprocessing/plot_all_scaling.html  \n",
    "http://benalexkeen.com/resampling-time-series-data-with-pandas/  \n",
    "https://kkokkilkon.tistory.com/37?category=640119 (완료)  \n",
    "http://benalexkeen.com/feature-scaling-with-scikit-learn/ (완료)  \n"
   ]
  },
  {
   "cell_type": "markdown",
   "metadata": {},
   "source": [
    "## 분리 및 검증\n",
    "https://towardsdatascience.com/time-series-nested-cross-validation-76adba623eb9  \n",
    "https://www.dataquest.io/blog/understanding-regression-error-metrics/  \n",
    "https://www.learnopencv.com/bias-variance-tradeoff-in-machine-learning/ (부분)   \n",
    "http://scott.fortmann-roe.com/docs/BiasVariance.html (부분)  \n",
    "http://www.cs.nthu.edu.tw/~shwu/courses/ml/labs/08_CV_Ensembling/08_CV_Ensembling.html (부분)  \n",
    "http://www.ebc.cat/2017/01/31/cross-validation-strategies/ (부분)  \n",
    "https://towardsdatascience.com/train-test-split-and-cross-validation-in-python-80b61beca4b6 (부분)  \n",
    "https://uc-r.github.io/ts_benchmarking (부분)  \n",
    "https://kkokkilkon.tistory.com/13 (완료)  \n",
    "https://blog.naver.com/ptostar1/221435695809 (완료)  \n",
    "https://www.quora.com/For-K-fold-cross-validation-what-k-should-be-selected (그림)  \n",
    "https://medium.com/greyatom/what-is-underfitting-and-overfitting-in-machine-learning-and-how-to-deal-with-it-6803a989c76 (그림)  \n"
   ]
  },
  {
   "cell_type": "markdown",
   "metadata": {},
   "source": [
    "# 알고리즘 이해"
   ]
  },
  {
   "cell_type": "markdown",
   "metadata": {},
   "source": [
    "## 회귀분석+정규화\n",
    "https://m.blog.naver.com/bluefish850/220723791173  \n",
    "https://kkokkilkon.tistory.com/77?category=640119  \n",
    "https://kkokkilkon.tistory.com/175?category=640119  \n",
    "https://www.analyticsvidhya.com/blog/2017/06/a-comprehensive-guide-for-linear-ridge-and-lasso-regression/  \n",
    "https://www.analyticsvidhya.com/blog/2016/01/complete-tutorial-ridge-lasso-regression-python/  \n",
    "https://datascienceschool.net/view-notebook/83d5e4fff7d64cb2aecfd7e42e1ece5e/  \n",
    "https://brunch.co.kr/@gimmesilver/38  "
   ]
  },
  {
   "cell_type": "markdown",
   "metadata": {},
   "source": [
    "## 다중공선성\n",
    "https://datascienceschool.net/view-notebook/36176e580d124612a376cf29872cd2f0/  \n",
    "http://blog.naver.com/PostView.nhn?blogId=sanghan1990&logNo=221121607688&parentCategoryNo=&categoryNo=5&viewDate=&isShowPopularPosts=true&from=search https://mkjjo.github.io/python/2019/01/10/scaler.html  \n",
    "http://blog.naver.com/PostView.nhn?blogId=wideeyed&logNo=221293217463&categoryNo=49&parentCategoryNo=0&viewDate=&currentPage=1&postListTopCurrentPage=1&from=search  \n",
    "https://datascienceschool.net/view-notebook/afb99de8cc0d407ba32079590b25180d/  \n",
    "https://scikit-learn.org/stable/auto_examples/preprocessing/plot_all_scaling.html  \n"
   ]
  },
  {
   "cell_type": "markdown",
   "metadata": {},
   "source": [
    "## 데이터마이닝\n",
    "https://kkokkilkon.tistory.com/169?category=640119  \n",
    "https://kkokkilkon.tistory.com/127?category=640119  \n",
    "https://kkokkilkon.tistory.com/50?category=640119  \n",
    "https://kkokkilkon.tistory.com/14?category=640119  \n",
    "https://www.analyticsvidhya.com/blog/2016/04/complete-tutorial-tree-based-modeling-scratch-in-python/  \n",
    "https://www.analyticsvidhya.com/blog/2017/09/common-machine-learning-algorithms/  \n",
    "https://enginius.tistory.com/606  \n",
    "https://medium.com/@pushkarmandot/https-medium-com-pushkarmandot-what-is-lightgbm-how-to-implement-it-how-to-fine-tune-the-parameters-60347819b7fc  \n",
    "https://dimensionless.in/gradient-boosting/  \n",
    "https://brunch.co.kr/@itschloe1/11  \n",
    "https://www.slideshare.net/freepsw/boosting-bagging-vs-boosting (완료)  \n",
    "https://machinelearningmastery.com/a-tour-of-machine-learning-algorithms/ (그림)  \n",
    "https://nowenlightenme.com/2018/03/18/types-of-machine-learning/ (그림)  \n",
    "https://towardsdatascience.com/types-of-machine-learning-algorithms-you-should-know-953a08248861 (그림)  \n"
   ]
  },
  {
   "cell_type": "markdown",
   "metadata": {},
   "source": [
    "## 시계열분석\n",
    "https://statkclee.github.io/finance/ (진행중)  \n",
    "https://github.com/gmonaci/ARIMA/blob/master/time-series-analysis-ARIMA.ipynb (진행중)  \n",
    "https://towardsdatascience.com/forecasting-exchange-rates-using-arima-in-python-f032f313fc56 (진행중)  \n",
    "https://www.digitalocean.com/community/tutorials/a-guide-to-time-series-forecasting-with-arima-in-python-3 (진행중)  \n",
    "https://www.kaggle.com/berhag/co2-emission-forecast-with-python-seasonal-arima (진행중)  \n",
    "http://www.blackarbs.com/blog/time-series-analysis-in-python-linear-models-to-garch/11/1/2016 (진행중)  \n",
    "https://www.kaggle.com/kashnitsky/topic-9-part-1-time-series-analysis-in-python/comments (진행중)  \n",
    "https://www.kaggle.com/rajmehra03/bike-sharing-demand-rmsle-0-3194 (진행중)  \n",
    "https://www.analyticsvidhya.com/blog/2018/09/non-stationary-time-series-python/ (진행중)  \n",
    "https://machinelearningmastery.com/time-series-data-stationary-python/ (진행중)  \n",
    "https://datascienceschool.net/notebook/TIME-SERIES-ANALYSIS/ \n",
    "(1.1/1.2/2.1/3.1/3.4/4.2/5.2/5.3/6.1/6.2/6.3/6.4/7.1/7.2/7.3/7.4/7.5/7.6/8.1/8.2/8.6/8.5/8.7/8.8진행중/9.1)  \n",
    "https://otexts.com/fpp2/  \n",
    "http://course1.winona.edu/bdeppa/FIN%20335/fin335.htm  \n",
    "https://pyflux.readthedocs.io/en/latest/arimax.html  \n",
    "https://m.blog.naver.com/bluefish850/220725222798  \n",
    "https://m.blog.naver.com/bluefish850/220749045909  \n",
    "https://medium.com/datadriveninvestor/how-to-build-exponential-smoothing-models-using-python-simple-exponential-smoothing-holt-and-da371189e1a1  \n",
    "https://machinelearningmastery.com/exponential-smoothing-for-time-series-forecasting-in-python/  \n",
    "http://rstudio-pubs-static.s3.amazonaws.com/311446_08b00d63cc794e158b1f4763eb70d43a.html  \n",
    "https://mycourses.aalto.fi/pluginfile.php/559082/mod_folder/content/0/Lecture_04_AR_models.pdf?forcedownload=1  \n",
    "https://datascienceschool.net/view-notebook/ceed009866404f7bbfc7e494336c218b/ (완료)  \n",
    "https://datascienceschool.net/view-notebook/05f419ff2fe14a669df2cb9a9a10417d/ (완료)  \n",
    "https://datascienceschool.net/view-notebook/05f419ff2fe14a669df2cb9a9a10417d/ (완료)  \n",
    "https://datascienceschool.net/view-notebook/d18fae471dd5463bb5fc06d24dabfdc9/ (완료)  \n",
    "https://datascienceschool.net/view-notebook/c645d51f308b4047aa78e8b343a2e181/ (완료)  \n",
    "https://datascienceschool.net/view-notebook/2572f5ff486849fb91e4343cd4de0972/ (완료)  \n",
    "https://datascienceschool.net/view-notebook/fd4f77324884499e90be5849f9610ce9/ (완료)  \n",
    "https://datascienceschool.net/view-notebook/bc0cb7be92c14f3f8023a978d86425d3/ (완료)  \n",
    "https://datascienceschool.net/view-notebook/92fd9aadd3c24141aebdc6d796ff9b11/ (완료)  \n",
    "http://www.phdeconomics.sssup.it/documents/Lesson4.pdf (완료)  \n",
    "https://www.datascience.com/blog/time-series-forecasting-machine-learning-differences (완료)  \n",
    "https://www.researchgate.net/figure/The-original-time-series-decomposed-into-its-trend-seasonal-and-irregular-ie_fig2_279249485 (그림)  \n"
   ]
  },
  {
   "cell_type": "markdown",
   "metadata": {},
   "source": [
    "# 기타\n",
    "http://www.dodomira.com/2016/10/20/how_to_eda/  \n",
    "https://datatales.co.kr/entry/3%EB%B3%80%EC%88%98%EC%9D%98-%EC%A2%85%EB%A5%98%EC%99%80-%EB%8B%A4%EB%B3%80%EB%9F%89%EB%B6%84%EC%84%9D%EC%9D%98-%EB%B6%84%EB%A5%98  \n",
    "https://en.wikipedia.org/wiki/Help:Displaying_a_formula#Formatting_using_TeX (마크다운수식)  \n",
    "https://towardsdatascience.com/interpretability-vs-accuracy-the-friction-that-defines-deep-learning-dae16c84db5c (설명력)  \n",
    "https://brunch.co.kr/@toughrogrammer/14 (컴퓨터구조)   "
   ]
  },
  {
   "cell_type": "markdown",
   "metadata": {},
   "source": [
    "# 전체과정\n",
    "https://wikidocs.net/book/1867"
   ]
  },
  {
   "cell_type": "markdown",
   "metadata": {},
   "source": [
    "# 과적합 및 기타 엄청난 강의자료\n",
    "(https://rfriend.tistory.com/187)"
   ]
  },
  {
   "cell_type": "markdown",
   "metadata": {},
   "source": [
    "# 머신러닝 강의록\n",
    "(https://www.analyticsvidhya.com/blog/2017/09/common-machine-learning-algorithms/)"
   ]
  },
  {
   "cell_type": "markdown",
   "metadata": {},
   "source": [
    "# Cheet sheet\n",
    "(https://medium.com/machine-learning-in-practice/cheat-sheet-of-machine-learning-and-python-and-math-cheat-sheets-a4afe4e791b6)  \n",
    "(https://www.analyticsvidhya.com/blog/2015/09/full-cheatsheet-machine-learning-algorithms/)  \n",
    "(https://www.favouriteblog.com/essential-cheat-sheets-for-machine-learning-python-and-maths/)  "
   ]
  },
  {
   "cell_type": "markdown",
   "metadata": {},
   "source": [
    "# Reference\n",
    "통계/테크닉: (최종) 시간가치를 고려한 투자분석 2016.09.18.  \n",
    "https://m.blog.naver.com/PostList.nhn?blogId=bluefish850&logCode=0&categoryNo=17&currentPage=2\n",
    "ANALYSIS: (최종) 선형 회귀분석의 4가지 기본가정 2018.07.22.\n",
    "https://kkokkilkon.tistory.com/category/ANALYSIS"
   ]
  },
  {
   "cell_type": "code",
   "execution_count": null,
   "metadata": {},
   "outputs": [],
   "source": []
  }
 ],
 "metadata": {
  "hide_input": false,
  "kernelspec": {
   "display_name": "Python 3",
   "language": "python",
   "name": "python3"
  },
  "language_info": {
   "codemirror_mode": {
    "name": "ipython",
    "version": 3
   },
   "file_extension": ".py",
   "mimetype": "text/x-python",
   "name": "python",
   "nbconvert_exporter": "python",
   "pygments_lexer": "ipython3",
   "version": "3.6.5"
  },
  "toc": {
   "base_numbering": 1,
   "nav_menu": {},
   "number_sections": true,
   "sideBar": true,
   "skip_h1_title": false,
   "title_cell": "Table of Contents",
   "title_sidebar": "Contents",
   "toc_cell": false,
   "toc_position": {},
   "toc_section_display": true,
   "toc_window_display": false
  },
  "varInspector": {
   "cols": {
    "lenName": 16,
    "lenType": 16,
    "lenVar": 40
   },
   "kernels_config": {
    "python": {
     "delete_cmd_postfix": "",
     "delete_cmd_prefix": "del ",
     "library": "var_list.py",
     "varRefreshCmd": "print(var_dic_list())"
    },
    "r": {
     "delete_cmd_postfix": ") ",
     "delete_cmd_prefix": "rm(",
     "library": "var_list.r",
     "varRefreshCmd": "cat(var_dic_list()) "
    }
   },
   "types_to_exclude": [
    "module",
    "function",
    "builtin_function_or_method",
    "instance",
    "_Feature"
   ],
   "window_display": false
  }
 },
 "nbformat": 4,
 "nbformat_minor": 2
}
