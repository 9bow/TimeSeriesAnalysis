{
 "cells": [
  {
   "cell_type": "markdown",
   "metadata": {},
   "source": [
    "# 데이터분석 현실\n",
    "https://m.blog.naver.com/bluefish850/220695646821 (완료)  "
   ]
  },
  {
   "cell_type": "markdown",
   "metadata": {},
   "source": [
    "# Pandas\n",
    "https://www.shanelynn.ie/python-pandas-read_csv-load-data-from-csv-files/ (완료)  \n",
    "https://www.shanelynn.ie/using-pandas-dataframe-creating-editing-viewing-data-in-python/) (완료)  \n",
    "http://www.tablesgenerator.com/markdown_tables) (완료)  \n",
    "https://www.shanelynn.ie/summarising-aggregation-and-grouping-data-in-python-pandas/) (완료)  \n",
    "https://www.shanelynn.ie/select-pandas-dataframe-rows-and-columns-using-iloc-loc-and-ix/) (완료)  \n",
    "https://www.shanelynn.ie/merge-join-dataframes-python-pandas-index-1/) (완료)  \n",
    "https://chrisalbon.com/  \n",
    "https://www.datacamp.com/community/tutorials/pandas-read-csv  \n",
    "https://chrisalbon.com/python/data_wrangling/pandas_dataframe_importing_csv/  \n",
    "https://pythonhow.com/pandas-data-analysis-functions/  \n",
    "https://www.dataquest.io/blog/pandas-python-tutorial/  \n",
    "https://www.dataquest.io/blog/pandas-tutorial-python-2/  \n",
    "https://chrisalbon.com/python/data_wrangling/pandas_apply_operations_to_groups/  \n",
    "http://www.gregreda.com/2013/10/26/working-with-pandas-dataframes/  \n",
    "https://chrisalbon.com/python/data_wrangling/pandas_join_merge_dataframe/  \n",
    "http://wesmckinney.com/blog/high-performance-database-joins-with-pandas-dataframe-more-benchmarks/  \n",
    "https://www.w3schools.com/sql/sql_join.asp  \n",
    "http://pandas.pydata.org/pandas-docs/stable/comparison_with_sql.html#join  \n",
    "http://pbpython.com/simple-graphing-pandas.html  \n",
    "https://machinelearningmastery.com/quick-and-dirty-data-analysis-with-pandas/  \n",
    "https://tomaugspurger.github.io/archives.html  "
   ]
  },
  {
   "cell_type": "markdown",
   "metadata": {},
   "source": [
    "# Numpy\n",
    "https://sdong3161.tistory.com/5?category=662597 (완료)  \n",
    "http://cs231n.github.io/python-numpy-tutorial/ (완료)  \n",
    "https://docs.scipy.org/doc/numpy/user/quickstart.html  \n",
    "https://www.tutorialspoint.com/numpy/index.htm  \n",
    "https://www.machinelearningplus.com/python/numpy-tutorial-part1-array-python-examples/  \n",
    "https://www.kaggle.com/hkumls/intensive-python-tutorial-numpy  \n",
    "https://www.guru99.com/numpy-tutorial.html  \n",
    "https://sacko.tistory.com/8?category=630829(글3개)  \n",
    "http://taewan.kim/post/numpy_sum_axis/  \n",
    "https://rfriend.tistory.com/357?category=675917  \n",
    "http://blog.naver.com/PostView.nhn?blogId=lyshyn&logNo=221074812470&parentCategoryNo=&categoryNo=78&viewDate=&isShowPopularPosts=true&from=search  \n",
    "https://towardsdatascience.com/a-quick-introduction-to-the-numpy-library-6f61b7dee4db  "
   ]
  },
  {
   "cell_type": "markdown",
   "metadata": {},
   "source": [
    "# 통계이해\n",
    "https://m.blog.naver.com/bluefish850/220696377742 (완료)  \n",
    "https://m.blog.naver.com/bluefish850/220698040249 (완료, Sampling 과정에서 생기는 Bias 제거하는 방법 제외)  \n",
    "https://m.blog.naver.com/bluefish850/220699738597 (완료, 4.가설검정의한계 제외)  \n",
    "https://m.blog.naver.com/bluefish850/220702382738  \n",
    "https://m.blog.naver.com/bluefish850/220703334665  \n",
    "https://m.blog.naver.com/bluefish850/220704024013  \n",
    "https://kkokkilkon.tistory.com/36?category=640119 (완료)  \n",
    "http://triki.net/wiki/3079 (완료)  \n",
    "http://triki.net/wiki/3108 (완료)  \n",
    "http://triki.net/wiki/3343 (완료)  \n",
    "https://m.blog.naver.com/her7845/220878643237 (완료)  \n",
    "https://m.blog.naver.com/her7845/220878676671 (완료)  \n",
    "https://m.blog.naver.com/her7845/220973401414 (완료)  "
   ]
  },
  {
   "cell_type": "markdown",
   "metadata": {},
   "source": [
    "# 확률이해\n",
    "http://triki.net/wiki/3475\n",
    "http://triki.net/wiki/3491\n",
    "http://triki.net/wiki/3511\n",
    "http://triki.net/wiki/3538\n",
    "https://m.blog.naver.com/her7845/220973410803"
   ]
  },
  {
   "cell_type": "markdown",
   "metadata": {},
   "source": [
    "# 데이터 전처리\n",
    "https://kkokkilkon.tistory.com/37?category=640119 (완료)  \n",
    "https://sacko.tistory.com/53?category=647946  \n",
    "https://pbpython.com/categorical-encoding.html  \n",
    "https://www.analyticsvidhya.com/blog/2016/07/practical-guide-data-preprocessing-python-scikit-learn/  \n"
   ]
  },
  {
   "cell_type": "markdown",
   "metadata": {},
   "source": [
    "# 데이터 분리\n",
    "https://kkokkilkon.tistory.com/13 (완료)  \n",
    "https://blog.naver.com/ptostar1/221435695809 (완료)  \n",
    "https://www.learnopencv.com/bias-variance-tradeoff-in-machine-learning/ (부분)   \n",
    "http://scott.fortmann-roe.com/docs/BiasVariance.html (부분)  \n",
    "http://www.cs.nthu.edu.tw/~shwu/courses/ml/labs/08_CV_Ensembling/08_CV_Ensembling.html (부분)  \n",
    "http://www.ebc.cat/2017/01/31/cross-validation-strategies/ (부분)  \n",
    "https://towardsdatascience.com/train-test-split-and-cross-validation-in-python-80b61beca4b6 (부분)  \n",
    "https://uc-r.github.io/ts_benchmarking (부분)  \n",
    "https://towardsdatascience.com/time-series-nested-cross-validation-76adba623eb9  "
   ]
  },
  {
   "cell_type": "markdown",
   "metadata": {},
   "source": [
    "# 회귀분석이해\n",
    "https://m.blog.naver.com/bluefish850/220723791173\n",
    "https://kkokkilkon.tistory.com/77?category=640119\n",
    "https://kkokkilkon.tistory.com/175?category=640119"
   ]
  },
  {
   "cell_type": "markdown",
   "metadata": {},
   "source": [
    "# 다중공선성\n",
    "https://datascienceschool.net/view-notebook/36176e580d124612a376cf29872cd2f0/  \n",
    "http://blog.naver.com/PostView.nhn?blogId=sanghan1990&logNo=221121607688&parentCategoryNo=&categoryNo=5&viewDate=&isShowPopularPosts=true&from=search https://mkjjo.github.io/python/2019/01/10/scaler.html  \n",
    "http://blog.naver.com/PostView.nhn?blogId=wideeyed&logNo=221293217463&categoryNo=49&parentCategoryNo=0&viewDate=&currentPage=1&postListTopCurrentPage=1&from=search  \n",
    "https://datascienceschool.net/view-notebook/afb99de8cc0d407ba32079590b25180d/  \n",
    "https://scikit-learn.org/stable/auto_examples/preprocessing/plot_all_scaling.html  \n"
   ]
  },
  {
   "cell_type": "markdown",
   "metadata": {},
   "source": [
    "# 데이터마이닝\n",
    "https://kkokkilkon.tistory.com/169?category=640119\n",
    "https://kkokkilkon.tistory.com/127?category=640119\n",
    "https://kkokkilkon.tistory.com/50?category=640119\n",
    "https://kkokkilkon.tistory.com/14?category=640119"
   ]
  },
  {
   "cell_type": "markdown",
   "metadata": {},
   "source": [
    "# 시계열분석\n",
    "https://www.datascience.com/blog/time-series-forecasting-machine-learning-differences (완료)  \n",
    "https://m.blog.naver.com/bluefish850/220725222798\n",
    "https://m.blog.naver.com/bluefish850/220749045909"
   ]
  },
  {
   "cell_type": "markdown",
   "metadata": {},
   "source": [
    "# 마크다운\n",
    "https://en.wikipedia.org/wiki/Help:Displaying_a_formula#Formatting_using_TeX"
   ]
  },
  {
   "cell_type": "markdown",
   "metadata": {},
   "source": [
    "# 기타\n",
    "http://www.dodomira.com/2016/10/20/how_to_eda/  \n",
    "https://datatales.co.kr/entry/3%EB%B3%80%EC%88%98%EC%9D%98-%EC%A2%85%EB%A5%98%EC%99%80-%EB%8B%A4%EB%B3%80%EB%9F%89%EB%B6%84%EC%84%9D%EC%9D%98-%EB%B6%84%EB%A5%98  "
   ]
  },
  {
   "cell_type": "markdown",
   "metadata": {},
   "source": [
    "# 전체과정\n",
    "https://wikidocs.net/book/1867"
   ]
  },
  {
   "cell_type": "markdown",
   "metadata": {},
   "source": [
    "# 과적합 및 기타 엄청난 강의자료\n",
    "(https://rfriend.tistory.com/187)"
   ]
  },
  {
   "cell_type": "markdown",
   "metadata": {},
   "source": [
    "# 시계열 강의자료\n",
    "(https://otexts.com/fpp2/)  \n",
    "(https://datascienceschool.net/notebook/TIME-SERIES-ANALYSIS/)"
   ]
  },
  {
   "cell_type": "markdown",
   "metadata": {},
   "source": [
    "# 머신러닝 강의록\n",
    "(https://www.analyticsvidhya.com/blog/2017/09/common-machine-learning-algorithms/)"
   ]
  },
  {
   "cell_type": "markdown",
   "metadata": {},
   "source": [
    "# Cheet sheet\n",
    "(https://medium.com/machine-learning-in-practice/cheat-sheet-of-machine-learning-and-python-and-math-cheat-sheets-a4afe4e791b6)  \n",
    "(https://www.analyticsvidhya.com/blog/2015/09/full-cheatsheet-machine-learning-algorithms/)  \n",
    "(https://www.favouriteblog.com/essential-cheat-sheets-for-machine-learning-python-and-maths/)  "
   ]
  },
  {
   "cell_type": "markdown",
   "metadata": {},
   "source": [
    "# Reference\n",
    "통계/테크닉: (최종) 시간가치를 고려한 투자분석 2016.09.18.  \n",
    "https://m.blog.naver.com/PostList.nhn?blogId=bluefish850&logCode=0&categoryNo=17&currentPage=2\n",
    "ANALYSIS: (최종) 선형 회귀분석의 4가지 기본가정 2018.07.22.\n",
    "https://kkokkilkon.tistory.com/category/ANALYSIS"
   ]
  },
  {
   "cell_type": "code",
   "execution_count": null,
   "metadata": {},
   "outputs": [],
   "source": []
  }
 ],
 "metadata": {
  "hide_input": false,
  "kernelspec": {
   "display_name": "Python 3",
   "language": "python",
   "name": "python3"
  },
  "language_info": {
   "codemirror_mode": {
    "name": "ipython",
    "version": 3
   },
   "file_extension": ".py",
   "mimetype": "text/x-python",
   "name": "python",
   "nbconvert_exporter": "python",
   "pygments_lexer": "ipython3",
   "version": "3.6.5"
  },
  "toc": {
   "base_numbering": 1,
   "nav_menu": {},
   "number_sections": true,
   "sideBar": true,
   "skip_h1_title": false,
   "title_cell": "Table of Contents",
   "title_sidebar": "Contents",
   "toc_cell": false,
   "toc_position": {},
   "toc_section_display": true,
   "toc_window_display": false
  },
  "varInspector": {
   "cols": {
    "lenName": 16,
    "lenType": 16,
    "lenVar": 40
   },
   "kernels_config": {
    "python": {
     "delete_cmd_postfix": "",
     "delete_cmd_prefix": "del ",
     "library": "var_list.py",
     "varRefreshCmd": "print(var_dic_list())"
    },
    "r": {
     "delete_cmd_postfix": ") ",
     "delete_cmd_prefix": "rm(",
     "library": "var_list.r",
     "varRefreshCmd": "cat(var_dic_list()) "
    }
   },
   "types_to_exclude": [
    "module",
    "function",
    "builtin_function_or_method",
    "instance",
    "_Feature"
   ],
   "window_display": false
  }
 },
 "nbformat": 4,
 "nbformat_minor": 2
}
