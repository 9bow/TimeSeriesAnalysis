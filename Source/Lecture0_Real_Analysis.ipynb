{
 "cells": [
  {
   "cell_type": "markdown",
   "metadata": {},
   "source": [
    "1. 분석을 이해하고 공감하는 자세\n",
    "\n",
    "1) 거짓말의 3가지 종류: 거짓말, 새빨간 거짓말, 그리고 통계 (통계 또는 분석의 목적)\n",
    "\n",
    "-> 거짓말에서 출발한 스스로의 무결점 입증\n",
    "\n",
    "-> 분석은 잘못쓰면 새빨간 거짓말, 잘쓰면 누구도 알 수 없는 강력한 무기\n",
    "\n",
    "2) 빅데이터, 그것은 데이터 분석의 불필요함을 의미할까? (모집단과 샘플의 관계)\n",
    "\n",
    "-> 분석은 결국 모집단이든 샘플이든 데이터의 특성을 알고 싶은것\n",
    "\n",
    "-> 과거, 현재, 그리고 미래에 대한 사람들의 관심\n",
    "\n",
    "3) 분석 결과는 아무것도 장담하지 못한다\n",
    "\n",
    "-> 이미지난 과거의 데이터는 현재와 미래를 설명하지 못함\n",
    "\n",
    "-> 데이터가 왜곡되면 결과도 왜곡됨\n",
    "\n",
    "-> 올바른 분석은 결국 분석에만 의존하지 않는 것\n",
    "\n",
    "https://m.blog.naver.com/bluefish850/220695646821\n",
    "\n"
   ]
  }
 ],
 "metadata": {
  "hide_input": false,
  "kernelspec": {
   "display_name": "Python 3",
   "language": "python",
   "name": "python3"
  },
  "language_info": {
   "codemirror_mode": {
    "name": "ipython",
    "version": 3
   },
   "file_extension": ".py",
   "mimetype": "text/x-python",
   "name": "python",
   "nbconvert_exporter": "python",
   "pygments_lexer": "ipython3",
   "version": "3.6.5"
  },
  "toc": {
   "base_numbering": 1,
   "nav_menu": {},
   "number_sections": true,
   "sideBar": true,
   "skip_h1_title": false,
   "title_cell": "Table of Contents",
   "title_sidebar": "Contents",
   "toc_cell": false,
   "toc_position": {},
   "toc_section_display": true,
   "toc_window_display": false
  },
  "varInspector": {
   "cols": {
    "lenName": 16,
    "lenType": 16,
    "lenVar": 40
   },
   "kernels_config": {
    "python": {
     "delete_cmd_postfix": "",
     "delete_cmd_prefix": "del ",
     "library": "var_list.py",
     "varRefreshCmd": "print(var_dic_list())"
    },
    "r": {
     "delete_cmd_postfix": ") ",
     "delete_cmd_prefix": "rm(",
     "library": "var_list.r",
     "varRefreshCmd": "cat(var_dic_list()) "
    }
   },
   "types_to_exclude": [
    "module",
    "function",
    "builtin_function_or_method",
    "instance",
    "_Feature"
   ],
   "window_display": false
  }
 },
 "nbformat": 4,
 "nbformat_minor": 2
}
