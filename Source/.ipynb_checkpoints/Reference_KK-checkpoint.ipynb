{
 "cells": [
  {
   "cell_type": "markdown",
   "metadata": {},
   "source": [
    "# 데이터분석 현실\n",
    "https://m.blog.naver.com/bluefish850/220695646821 (완료)  \n",
    "\n",
    "# Numpy\n",
    "http://cs231n.github.io/python-numpy-tutorial/  \n",
    "https://docs.scipy.org/doc/numpy/user/quickstart.html  \n",
    "https://www.tutorialspoint.com/numpy/index.htm  \n",
    "https://www.machinelearningplus.com/python/numpy-tutorial-part1-array-python-examples/  \n",
    "https://www.kaggle.com/hkumls/intensive-python-tutorial-numpy  \n",
    "https://www.guru99.com/numpy-tutorial.html  \n",
    "\n",
    "# 통계이해\n",
    "https://m.blog.naver.com/bluefish850/220696377742 (완료)  \n",
    "https://m.blog.naver.com/bluefish850/220698040249 (완료, Sampling 과정에서 생기는 Bias 제거하는 방법 제외)  \n",
    "https://m.blog.naver.com/bluefish850/220699738597 (완료, 4.가설검정의한계 제외)  \n",
    "https://m.blog.naver.com/bluefish850/220702382738  \n",
    "https://m.blog.naver.com/bluefish850/220703334665  \n",
    "https://m.blog.naver.com/bluefish850/220704024013  \n",
    "https://kkokkilkon.tistory.com/36?category=640119 (완료)  \n",
    "http://triki.net/wiki/3079 (완료)  \n",
    "http://triki.net/wiki/3108 (완료)  \n",
    "http://triki.net/wiki/3343 (완료)  \n",
    "https://m.blog.naver.com/her7845/220878643237 (완료)  \n",
    "https://m.blog.naver.com/her7845/220878676671 (완료)  \n",
    "https://m.blog.naver.com/her7845/220973401414 (완료)  \n",
    "\n",
    "\n",
    "# 확률이해\n",
    "http://triki.net/wiki/3475\n",
    "http://triki.net/wiki/3491\n",
    "http://triki.net/wiki/3511\n",
    "http://triki.net/wiki/3538\n",
    "https://m.blog.naver.com/her7845/220973410803\n",
    "\n",
    "\n",
    "# 데이터 핸들링\n",
    "https://kkokkilkon.tistory.com/37?category=640119\n",
    "\n",
    "# 데이터 분리\n",
    "https://kkokkilkon.tistory.com/13\n",
    "\n",
    "# 회귀분석이해\n",
    "https://m.blog.naver.com/bluefish850/220723791173\n",
    "https://kkokkilkon.tistory.com/77?category=640119\n",
    "https://kkokkilkon.tistory.com/175?category=640119\n",
    "\n",
    "# 데이터마이닝\n",
    "https://kkokkilkon.tistory.com/169?category=640119\n",
    "https://kkokkilkon.tistory.com/127?category=640119\n",
    "https://kkokkilkon.tistory.com/50?category=640119\n",
    "https://kkokkilkon.tistory.com/14?category=640119\n",
    "\n",
    "# 시계열분석\n",
    "https://m.blog.naver.com/bluefish850/220725222798\n",
    "https://m.blog.naver.com/bluefish850/220749045909\n",
    "\n",
    "# 기타\n",
    "http://www.dodomira.com/2016/10/20/how_to_eda/  \n",
    "https://datatales.co.kr/entry/3%EB%B3%80%EC%88%98%EC%9D%98-%EC%A2%85%EB%A5%98%EC%99%80-%EB%8B%A4%EB%B3%80%EB%9F%89%EB%B6%84%EC%84%9D%EC%9D%98-%EB%B6%84%EB%A5%98  \n",
    "\n",
    "# 전체과정\n",
    "https://wikidocs.net/book/1867\n",
    "\n",
    "# Reference\n",
    "통계/테크닉: (최종) 시간가치를 고려한 투자분석 2016.09.18.  \n",
    "https://m.blog.naver.com/PostList.nhn?blogId=bluefish850&logCode=0&categoryNo=17&currentPage=2\n",
    "ANALYSIS: (최종) 선형 회귀분석의 4가지 기본가정 2018.07.22.\n",
    "https://kkokkilkon.tistory.com/category/ANALYSIS"
   ]
  }
 ],
 "metadata": {
  "hide_input": false,
  "kernelspec": {
   "display_name": "Python 3",
   "language": "python",
   "name": "python3"
  },
  "language_info": {
   "codemirror_mode": {
    "name": "ipython",
    "version": 3
   },
   "file_extension": ".py",
   "mimetype": "text/x-python",
   "name": "python",
   "nbconvert_exporter": "python",
   "pygments_lexer": "ipython3",
   "version": "3.6.5"
  },
  "toc": {
   "base_numbering": 1,
   "nav_menu": {},
   "number_sections": true,
   "sideBar": true,
   "skip_h1_title": false,
   "title_cell": "Table of Contents",
   "title_sidebar": "Contents",
   "toc_cell": false,
   "toc_position": {},
   "toc_section_display": true,
   "toc_window_display": false
  },
  "varInspector": {
   "cols": {
    "lenName": 16,
    "lenType": 16,
    "lenVar": 40
   },
   "kernels_config": {
    "python": {
     "delete_cmd_postfix": "",
     "delete_cmd_prefix": "del ",
     "library": "var_list.py",
     "varRefreshCmd": "print(var_dic_list())"
    },
    "r": {
     "delete_cmd_postfix": ") ",
     "delete_cmd_prefix": "rm(",
     "library": "var_list.r",
     "varRefreshCmd": "cat(var_dic_list()) "
    }
   },
   "types_to_exclude": [
    "module",
    "function",
    "builtin_function_or_method",
    "instance",
    "_Feature"
   ],
   "window_display": false
  }
 },
 "nbformat": 4,
 "nbformat_minor": 2
}
